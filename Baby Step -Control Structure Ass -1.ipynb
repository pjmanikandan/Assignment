{
 "cells": [
  {
   "cell_type": "code",
   "execution_count": 8,
   "id": "dd9a1031",
   "metadata": {},
   "outputs": [
    {
     "name": "stdout",
     "output_type": "stream",
     "text": [
      "Welcome to Assignment-1\n"
     ]
    }
   ],
   "source": [
    "print(\"Welcome to Assignment-1\")"
   ]
  },
  {
   "cell_type": "markdown",
   "id": "ebf2e7f1",
   "metadata": {},
   "source": []
  },
  {
   "cell_type": "code",
   "execution_count": 7,
   "id": "4d509fef",
   "metadata": {},
   "outputs": [
    {
     "name": "stdout",
     "output_type": "stream",
     "text": [
      "Num1= 10\n",
      "Num2= 30\n",
      "Add= 40\n"
     ]
    }
   ],
   "source": [
    "num=10\n",
    "num2=30\n",
    "print(\"Num1=\",num)\n",
    "print(\"Num2=\",num2)\n",
    "print(\"Add=\",num+num2)"
   ]
  },
  {
   "cell_type": "code",
   "execution_count": 55,
   "id": "7d47ba9a",
   "metadata": {},
   "outputs": [
    {
     "name": "stdout",
     "output_type": "stream",
     "text": [
      "Enter the BMI Index:34\n",
      "Very OverWeight\n"
     ]
    }
   ],
   "source": [
    "x=float(input(\"Enter the BMI Index:\"))\n",
    "if(x<18.5):\n",
    "     print(\"Under weight\")\n",
    "elif(x>= 18.5and x<24.9):\n",
    "    print(\"Normal Weight\")\n",
    "elif(x>= 24.9 and x<30):\n",
    "    print(\"Over Weight \")            \n",
    "else:\n",
    "    print(\"Very OverWeight\")            \n",
    "        "
   ]
  },
  {
   "cell_type": "code",
   "execution_count": null,
   "id": "415bc1a9",
   "metadata": {},
   "outputs": [],
   "source": []
  },
  {
   "cell_type": "code",
   "execution_count": null,
   "id": "e317d54c",
   "metadata": {},
   "outputs": [],
   "source": [
    "\n"
   ]
  }
 ],
 "metadata": {
  "kernelspec": {
   "display_name": "Python 3 (ipykernel)",
   "language": "python",
   "name": "python3"
  },
  "language_info": {
   "codemirror_mode": {
    "name": "ipython",
    "version": 3
   },
   "file_extension": ".py",
   "mimetype": "text/x-python",
   "name": "python",
   "nbconvert_exporter": "python",
   "pygments_lexer": "ipython3",
   "version": "3.9.12"
  }
 },
 "nbformat": 4,
 "nbformat_minor": 5
}
